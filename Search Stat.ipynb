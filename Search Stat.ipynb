{
 "cells": [
  {
   "cell_type": "markdown",
   "metadata": {},
   "source": [
    "#Search Statistics\n",
    "###Abdul Baqi Sharaf\n",
    "\n",
    "\n",
    "In this segment I will search for a number of terms in the Quran and vizualize their frequency as a bar chart"
   ]
  },
  {
   "cell_type": "markdown",
   "metadata": {},
   "source": [
    "See my earlier tutorial on how you get the Quran in a list of dictionaries.\n",
    "http://abdulbaqi.github.io/quran.html"
   ]
  },
  {
   "cell_type": "markdown",
   "metadata": {},
   "source": [
    "I have kept these in a module called `quran` and defined a function `ReadQuran` which reads the text file, parses each line and place them in a list of dictionaries. "
   ]
  },
  {
   "cell_type": "code",
   "execution_count": 22,
   "metadata": {
    "collapsed": true
   },
   "outputs": [],
   "source": [
    "import quran"
   ]
  },
  {
   "cell_type": "code",
   "execution_count": 23,
   "metadata": {
    "collapsed": false
   },
   "outputs": [],
   "source": [
    "q = quran.ReadQuran()"
   ]
  },
  {
   "cell_type": "markdown",
   "metadata": {},
   "source": [
    "I want to join all text verses into one string in order  for me to utilize the `find` and `count` method of strings. So, now `qq` holds all text of quran in one string."
   ]
  },
  {
   "cell_type": "code",
   "execution_count": 24,
   "metadata": {
    "collapsed": false
   },
   "outputs": [],
   "source": [
    "s=''\n",
    "qq=s.join([v['v'] for v in q])"
   ]
  },
  {
   "cell_type": "markdown",
   "metadata": {},
   "source": [
    "Just a small test to ensure I got things in place."
   ]
  },
  {
   "cell_type": "code",
   "execution_count": 25,
   "metadata": {
    "collapsed": false
   },
   "outputs": [
    {
     "name": "stdout",
     "output_type": "stream",
     "text": [
      "سم الله الرحمن الرحيم\n",
      "الحمد لله رب العالمين\n",
      "الرحمن الرحيم\n",
      "مالك يوم الدين\n",
      "إياك نعبد وإياك نستعين\n",
      "اهد\n"
     ]
    }
   ],
   "source": [
    "print(qq[1:100])"
   ]
  },
  {
   "cell_type": "markdown",
   "metadata": {},
   "source": [
    "another test to check that the `count` function is working!"
   ]
  },
  {
   "cell_type": "code",
   "execution_count": 26,
   "metadata": {
    "collapsed": false
   },
   "outputs": [
    {
     "data": {
      "text/plain": [
       "4"
      ]
     },
     "execution_count": 26,
     "metadata": {},
     "output_type": "execute_result"
    }
   ],
   "source": [
    "qq.count('محمد')"
   ]
  },
  {
   "cell_type": "markdown",
   "metadata": {},
   "source": [
    "Now, the idea is to capture the search terms in a list of unicode terms like the following. So, here is a sample search terms for the five main prophets known in arabic as أولو العزم"
   ]
  },
  {
   "cell_type": "code",
   "execution_count": 27,
   "metadata": {
    "collapsed": true
   },
   "outputs": [],
   "source": [
    "search=['عيسى','موسى','نوح','إبراهيم', 'محمد']"
   ]
  },
  {
   "cell_type": "markdown",
   "metadata": {},
   "source": [
    "A check that `count` function works OK. So, the term `Musa` occurs 136 times in the Quran. \n",
    "\n",
    "It is always good to verify this with the authentic website of the QuranComplex.org\n",
    "http://qurancomplex.gov.sa/IdIndex/default.asp?harf=1&l=arb&job=wordlist&Page=1&word=%E3%E6%D3%EC&button1=%C8%CD%CB "
   ]
  },
  {
   "cell_type": "code",
   "execution_count": 28,
   "metadata": {
    "collapsed": false
   },
   "outputs": [
    {
     "data": {
      "text/plain": [
       "136"
      ]
     },
     "execution_count": 28,
     "metadata": {},
     "output_type": "execute_result"
    }
   ],
   "source": [
    "qq.count('موسى')"
   ]
  },
  {
   "cell_type": "markdown",
   "metadata": {},
   "source": [
    "The next step is to write a function that takes this list of search terms and return a list of their frequencies. I will call the function `qcount`. \n",
    "\n",
    "I am using a `lambda` function which applies the string `count` function on each element of the term list."
   ]
  },
  {
   "cell_type": "code",
   "execution_count": 29,
   "metadata": {
    "collapsed": true
   },
   "outputs": [],
   "source": [
    "def qcount(terms):\n",
    "    return [qq.count(x) for x in terms]\n",
    "    "
   ]
  },
  {
   "cell_type": "markdown",
   "metadata": {},
   "source": [
    "Let us test that. \n",
    "\n",
    "One disclaimer I must mention, is that sometimes the morphological root could increase the search terms. For example (نوح) Noah was counted 50 times whereas the actual count according to the QuranComplex site is 43, and I think the 7 additional counts came out of roots of the word (نوحي) meaning revelation"
   ]
  },
  {
   "cell_type": "code",
   "execution_count": 30,
   "metadata": {
    "collapsed": false
   },
   "outputs": [
    {
     "name": "stdout",
     "output_type": "stream",
     "text": [
      "[25, 136, 50, 69, 4]\n"
     ]
    }
   ],
   "source": [
    "print(qcount(search))"
   ]
  },
  {
   "cell_type": "markdown",
   "metadata": {},
   "source": [
    "Great!"
   ]
  },
  {
   "cell_type": "code",
   "execution_count": 31,
   "metadata": {
    "collapsed": true
   },
   "outputs": [],
   "source": [
    "import matplotlib.pyplot as plt\n",
    "%matplotlib inline"
   ]
  },
  {
   "cell_type": "markdown",
   "metadata": {},
   "source": [
    "I had to struggle to get Arabic display with `matplotlib`...\n",
    "\n",
    "with some search I realized that I have to use two more libraries. Here are some useful links.\n",
    "\n",
    "https://pypi.python.org/pypi/python-bidi\n",
    "\n",
    "http://stackoverflow.com/questions/18772950/right-to-left-support-in-python-networkx-and-matplotlib"
   ]
  },
  {
   "cell_type": "code",
   "execution_count": 32,
   "metadata": {
    "collapsed": false
   },
   "outputs": [],
   "source": [
    "import numpy as np\n",
    "from bidi.algorithm import get_display\n",
    "import arabic_reshaper\n",
    "plt.rcParams['font.family'] = 'Times New Roman'\n",
    "plt.rcParams['font.size'] = 14"
   ]
  },
  {
   "cell_type": "markdown",
   "metadata": {},
   "source": [
    "So, I had to import a number of modules and set few parameters to render my Arabic graphics correctly. Make sure that the fonts you choose exists in your machine. \n",
    "\n",
    "In what follows, I am setting the content of x,y axis of this bar graph, and then providing title and x and y labesl. \n",
    "\n",
    "`plt.xticks` need to be done well. You have to study this and set the parameters correctly. The magic goes into the lambda function where I passed each search term into the `arabic_reshaper` method and then passed that to the `get_display` method for bidirectional and constructed a list of the new displays. "
   ]
  },
  {
   "cell_type": "code",
   "execution_count": 33,
   "metadata": {
    "collapsed": false
   },
   "outputs": [
    {
     "data": {
      "image/png": "[encoded data removed]",
      "text/plain": [
       "<Figure size 640x480 with 1 Axes>"
      ]
     },
     "metadata": {},
     "output_type": "display_data"
    }
   ],
   "source": [
    "plt.bar(range(len(search)), qcount(search))\n",
    "plt.title('Search Frequency in the Quran')\n",
    "plt.ylabel('No. of terms')\n",
    "plt.xlabel('Search terms')\n",
    "plt.xticks(np.arange(len(search)) + 0.4, list(map(lambda x: get_display(arabic_reshaper.reshape(x)), search)))\n",
    "plt.show()"
   ]
  }
 ],
 "metadata": {
  "kernelspec": {
   "display_name": "Python 3",
   "language": "python",
   "name": "python3"
  },
  "language_info": {
   "codemirror_mode": {
    "name": "ipython",
    "version": 3
   },
   "file_extension": ".py",
   "mimetype": "text/x-python",
   "name": "python",
   "nbconvert_exporter": "python",
   "pygments_lexer": "ipython3",
   "version": "3.9.6"
  }
 },
 "nbformat": 4,
 "nbformat_minor": 0
}
