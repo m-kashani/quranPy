{
 "cells": [
  {
   "cell_type": "markdown",
   "metadata": {},
   "source": [
    "#Quran in Python"
   ]
  },
  {
   "cell_type": "markdown",
   "metadata": {},
   "source": [
    "I have the quran file download to the direcotry. You may find it from tanzil project in the internet. \n",
    "\n",
    "The first step is to download the appropirate file from the internet. \n",
    "http://tanzil.net/download/\n",
    "\n",
    "I choose the simple clean version with verse number.\n",
    "<img src=\"tanzil.png\">\n",
    "I want to check the directory first."
   ]
  },
  {
   "cell_type": "code",
   "execution_count": 13,
   "metadata": {
    "collapsed": true
   },
   "outputs": [],
   "source": [
    "from os import listdir"
   ]
  },
  {
   "cell_type": "code",
   "execution_count": 14,
   "metadata": {
    "collapsed": false
   },
   "outputs": [
    {
     "data": {
      "text/plain": [
       "['test_plot.png',\n",
       " 'test_arabic_plot.png',\n",
       " 'README.md',\n",
       " 'quran.ipynb',\n",
       " 'quran.py',\n",
       " 'Search Stat.ipynb',\n",
       " 'test_final_plot.png',\n",
       " '.git',\n",
       " 'quran-simple-clean.txt']"
      ]
     },
     "execution_count": 14,
     "metadata": {},
     "output_type": "execute_result"
    }
   ],
   "source": [
    "[f for f in listdir('.')]"
   ]
  },
  {
   "cell_type": "markdown",
   "metadata": {},
   "source": [
    "So, we now knw the name of the text file `quran-simple-clean.txt`"
   ]
  },
  {
   "cell_type": "markdown",
   "metadata": {},
   "source": [
    "Now, lets get into it.."
   ]
  },
  {
   "cell_type": "markdown",
   "metadata": {},
   "source": [
    "The first complication is with the Arabic language.\n",
    "\n",
    "Here is a good starting point.\n",
    "http://www.spencegreen.com/2008/12/19/python-arabic-unicode/\n"
   ]
  },
  {
   "cell_type": "code",
   "execution_count": 15,
   "metadata": {
    "collapsed": false
   },
   "outputs": [],
   "source": [
    "import codecs\n",
    "f = codecs.open('quran-simple-clean.txt', encoding='utf-8', mode='r')"
   ]
  },
  {
   "cell_type": "markdown",
   "metadata": {},
   "source": [
    "so, now proven that the text is rendered correctly.\n",
    "\n",
    "Also, the above snippet gave us an idea about the structure of the file, which `chapter no. | verse no.| text of the verse`\n",
    "\n",
    "Now, knowing this, let me place the quran as a dictionary."
   ]
  },
  {
   "cell_type": "code",
   "execution_count": 16,
   "metadata": {
    "collapsed": false
   },
   "outputs": [],
   "source": [
    "quran = []\n",
    "for line in f:\n",
    "    line = line.strip()\n",
    "    if line:\n",
    "        parts = line.split('|')\n",
    "        if len(parts) >= 3:\n",
    "            chapter = parts[0]\n",
    "            verse = parts[1]\n",
    "            text = parts[2]\n",
    "            vid = chapter + ':' + verse\n",
    "            quran.append({'vid': vid, 'v': text})\n",
    "    "
   ]
  },
  {
   "cell_type": "code",
   "execution_count": 17,
   "metadata": {
    "collapsed": false
   },
   "outputs": [
    {
     "name": "stdout",
     "output_type": "stream",
     "text": [
      "1:1 - بسم الله الرحمن الرحيم\n",
      "1:2 - الحمد لله رب العالمين\n",
      "1:3 - الرحمن الرحيم\n",
      "1:4 - مالك يوم الدين\n",
      "1:5 - إياك نعبد وإياك نستعين\n",
      "1:6 - اهدنا الصراط المستقيم\n",
      "1:7 - صراط الذين أنعمت عليهم غير المغضوب عليهم ولا الضالين\n"
     ]
    }
   ],
   "source": [
    "for v in quran[:7]:\n",
    "    print('%s - %s' % (v['vid'], v['v']))"
   ]
  },
  {
   "cell_type": "markdown",
   "metadata": {},
   "source": [
    "So far so good. I have the quran now as a list of dictionary item, each entry in the dictionary points to a verse.\n",
    "\n",
    "I can know the total number of verses in the Quran by checking the size of the list`quran`"
   ]
  },
  {
   "cell_type": "code",
   "execution_count": 18,
   "metadata": {
    "collapsed": false
   },
   "outputs": [
    {
     "data": {
      "text/plain": [
       "6236"
      ]
     },
     "execution_count": 18,
     "metadata": {},
     "output_type": "execute_result"
    }
   ],
   "source": [
    "len(quran)"
   ]
  },
  {
   "cell_type": "markdown",
   "metadata": {},
   "source": [
    "Let me wrap up this section by producing a handy function `aya` that takes a verse number and returns that verse in Arabic."
   ]
  },
  {
   "cell_type": "code",
   "execution_count": 19,
   "metadata": {
    "collapsed": false
   },
   "outputs": [],
   "source": [
    "def aya(vid):\n",
    "    for item in quran:\n",
    "        if item['vid'] == vid:\n",
    "            return item['v']\n",
    "    return 'Verse not found'\n",
    "    "
   ]
  },
  {
   "cell_type": "code",
   "execution_count": 20,
   "metadata": {
    "collapsed": false
   },
   "outputs": [
    {
     "name": "stdout",
     "output_type": "stream",
     "text": [
      "ذرهم يأكلوا ويتمتعوا ويلههم الأمل فسوف يعلمون\n"
     ]
    }
   ],
   "source": [
    "print(aya('15:3'))"
   ]
  }
 ],
 "metadata": {
  "kernelspec": {
   "display_name": "Python 3",
   "language": "python",
   "name": "python3"
  },
  "language_info": {
   "codemirror_mode": {
    "name": "ipython",
    "version": 3
   },
   "file_extension": ".py",
   "mimetype": "text/x-python",
   "name": "python",
   "nbconvert_exporter": "python",
   "pygments_lexer": "ipython3",
   "version": "3.9.6"
  }
 },
 "nbformat": 4,
 "nbformat_minor": 0
}
